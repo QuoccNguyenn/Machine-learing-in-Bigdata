{
  "nbformat": 4,
  "nbformat_minor": 0,
  "metadata": {
    "colab": {
      "name": "ML_Big_Data_Pyspark.ipynb",
      "provenance": [],
      "collapsed_sections": []
    },
    "kernelspec": {
      "display_name": "Python 3",
      "name": "python3"
    },
    "language_info": {
      "name": "python"
    }
  },
  "cells": [
    {
      "cell_type": "code",
      "metadata": {
        "colab": {
          "base_uri": "https://localhost:8080/"
        },
        "id": "8eBHxCO43LzT",
        "outputId": "691b0dc1-dc7f-4b25-e324-56340ba4b9be"
      },
      "source": [
        "!pip install pyspark"
      ],
      "execution_count": 1,
      "outputs": [
        {
          "output_type": "stream",
          "text": [
            "Collecting pyspark\n",
            "\u001b[?25l  Downloading https://files.pythonhosted.org/packages/45/b0/9d6860891ab14a39d4bddf80ba26ce51c2f9dc4805e5c6978ac0472c120a/pyspark-3.1.1.tar.gz (212.3MB)\n",
            "\u001b[K     |████████████████████████████████| 212.3MB 76kB/s \n",
            "\u001b[?25hCollecting py4j==0.10.9\n",
            "\u001b[?25l  Downloading https://files.pythonhosted.org/packages/9e/b6/6a4fb90cd235dc8e265a6a2067f2a2c99f0d91787f06aca4bcf7c23f3f80/py4j-0.10.9-py2.py3-none-any.whl (198kB)\n",
            "\u001b[K     |████████████████████████████████| 204kB 35.8MB/s \n",
            "\u001b[?25hBuilding wheels for collected packages: pyspark\n",
            "  Building wheel for pyspark (setup.py) ... \u001b[?25l\u001b[?25hdone\n",
            "  Created wheel for pyspark: filename=pyspark-3.1.1-py2.py3-none-any.whl size=212767604 sha256=05cb8d9c506f5b09625b0bf83971bc9f820a99adab4408e4914992af1c0b8a99\n",
            "  Stored in directory: /root/.cache/pip/wheels/0b/90/c0/01de724414ef122bd05f056541fb6a0ecf47c7ca655f8b3c0f\n",
            "Successfully built pyspark\n",
            "Installing collected packages: py4j, pyspark\n",
            "Successfully installed py4j-0.10.9 pyspark-3.1.1\n"
          ],
          "name": "stdout"
        }
      ]
    },
    {
      "cell_type": "code",
      "metadata": {
        "id": "rMfEaUEgj5A-"
      },
      "source": [
        "from pyspark.sql import SparkSession\n",
        "spark = SparkSession.builder.appName('ML project').getOrCreate()"
      ],
      "execution_count": 2,
      "outputs": []
    },
    {
      "cell_type": "code",
      "metadata": {
        "colab": {
          "base_uri": "https://localhost:8080/"
        },
        "id": "QX_Nunf0kl7-",
        "outputId": "5256c2b1-c595-4edf-a123-1dc1d28e6acc"
      },
      "source": [
        "# load data \n",
        "df = spark.read.csv('bank.csv', header = True, inferSchema = True)\n",
        "df.printSchema()"
      ],
      "execution_count": 3,
      "outputs": [
        {
          "output_type": "stream",
          "text": [
            "root\n",
            " |-- age: integer (nullable = true)\n",
            " |-- job: string (nullable = true)\n",
            " |-- marital: string (nullable = true)\n",
            " |-- education: string (nullable = true)\n",
            " |-- default: string (nullable = true)\n",
            " |-- balance: integer (nullable = true)\n",
            " |-- housing: string (nullable = true)\n",
            " |-- loan: string (nullable = true)\n",
            " |-- contact: string (nullable = true)\n",
            " |-- day: integer (nullable = true)\n",
            " |-- month: string (nullable = true)\n",
            " |-- duration: integer (nullable = true)\n",
            " |-- campaign: integer (nullable = true)\n",
            " |-- pdays: integer (nullable = true)\n",
            " |-- previous: integer (nullable = true)\n",
            " |-- poutcome: string (nullable = true)\n",
            " |-- deposit: string (nullable = true)\n",
            "\n"
          ],
          "name": "stdout"
        }
      ]
    },
    {
      "cell_type": "code",
      "metadata": {
        "id": "G4-iF40NA5zK",
        "colab": {
          "base_uri": "https://localhost:8080/"
        },
        "outputId": "a65287fd-759d-4e88-e168-2f65db4d9cc1"
      },
      "source": [
        "df.show()"
      ],
      "execution_count": 4,
      "outputs": [
        {
          "output_type": "stream",
          "text": [
            "+---+-----------+--------+---------+-------+-------+-------+----+-------+---+-----+--------+--------+-----+--------+--------+-------+\n",
            "|age|        job| marital|education|default|balance|housing|loan|contact|day|month|duration|campaign|pdays|previous|poutcome|deposit|\n",
            "+---+-----------+--------+---------+-------+-------+-------+----+-------+---+-----+--------+--------+-----+--------+--------+-------+\n",
            "| 59|     admin.| married|secondary|     no|   2343|    yes|  no|unknown|  5|  may|    1042|       1|   -1|       0| unknown|    yes|\n",
            "| 56|     admin.| married|secondary|     no|     45|     no|  no|unknown|  5|  may|    1467|       1|   -1|       0| unknown|    yes|\n",
            "| 41| technician| married|secondary|     no|   1270|    yes|  no|unknown|  5|  may|    1389|       1|   -1|       0| unknown|    yes|\n",
            "| 55|   services| married|secondary|     no|   2476|    yes|  no|unknown|  5|  may|     579|       1|   -1|       0| unknown|    yes|\n",
            "| 54|     admin.| married| tertiary|     no|    184|     no|  no|unknown|  5|  may|     673|       2|   -1|       0| unknown|    yes|\n",
            "| 42| management|  single| tertiary|     no|      0|    yes| yes|unknown|  5|  may|     562|       2|   -1|       0| unknown|    yes|\n",
            "| 56| management| married| tertiary|     no|    830|    yes| yes|unknown|  6|  may|    1201|       1|   -1|       0| unknown|    yes|\n",
            "| 60|    retired|divorced|secondary|     no|    545|    yes|  no|unknown|  6|  may|    1030|       1|   -1|       0| unknown|    yes|\n",
            "| 37| technician| married|secondary|     no|      1|    yes|  no|unknown|  6|  may|     608|       1|   -1|       0| unknown|    yes|\n",
            "| 28|   services|  single|secondary|     no|   5090|    yes|  no|unknown|  6|  may|    1297|       3|   -1|       0| unknown|    yes|\n",
            "| 38|     admin.|  single|secondary|     no|    100|    yes|  no|unknown|  7|  may|     786|       1|   -1|       0| unknown|    yes|\n",
            "| 30|blue-collar| married|secondary|     no|    309|    yes|  no|unknown|  7|  may|    1574|       2|   -1|       0| unknown|    yes|\n",
            "| 29| management| married| tertiary|     no|    199|    yes| yes|unknown|  7|  may|    1689|       4|   -1|       0| unknown|    yes|\n",
            "| 46|blue-collar|  single| tertiary|     no|    460|    yes|  no|unknown|  7|  may|    1102|       2|   -1|       0| unknown|    yes|\n",
            "| 31| technician|  single| tertiary|     no|    703|    yes|  no|unknown|  8|  may|     943|       2|   -1|       0| unknown|    yes|\n",
            "| 35| management|divorced| tertiary|     no|   3837|    yes|  no|unknown|  8|  may|    1084|       1|   -1|       0| unknown|    yes|\n",
            "| 32|blue-collar|  single|  primary|     no|    611|    yes|  no|unknown|  8|  may|     541|       3|   -1|       0| unknown|    yes|\n",
            "| 49|   services| married|secondary|     no|     -8|    yes|  no|unknown|  8|  may|    1119|       1|   -1|       0| unknown|    yes|\n",
            "| 41|     admin.| married|secondary|     no|     55|    yes|  no|unknown|  8|  may|    1120|       2|   -1|       0| unknown|    yes|\n",
            "| 49|     admin.|divorced|secondary|     no|    168|    yes| yes|unknown|  8|  may|     513|       1|   -1|       0| unknown|    yes|\n",
            "+---+-----------+--------+---------+-------+-------+-------+----+-------+---+-----+--------+--------+-----+--------+--------+-------+\n",
            "only showing top 20 rows\n",
            "\n"
          ],
          "name": "stdout"
        }
      ]
    },
    {
      "cell_type": "code",
      "metadata": {
        "id": "de87gxp6kqrA",
        "colab": {
          "base_uri": "https://localhost:8080/",
          "height": 576
        },
        "outputId": "1066cb1c-3150-4c7f-a9b3-e6397685f3f2"
      },
      "source": [
        "# Show Dataset in DataFrame\n",
        "import pandas as pd\n",
        "pd.DataFrame(df.take(5), columns=df.columns).transpose()"
      ],
      "execution_count": 5,
      "outputs": [
        {
          "output_type": "execute_result",
          "data": {
            "text/html": [
              "<div>\n",
              "<style scoped>\n",
              "    .dataframe tbody tr th:only-of-type {\n",
              "        vertical-align: middle;\n",
              "    }\n",
              "\n",
              "    .dataframe tbody tr th {\n",
              "        vertical-align: top;\n",
              "    }\n",
              "\n",
              "    .dataframe thead th {\n",
              "        text-align: right;\n",
              "    }\n",
              "</style>\n",
              "<table border=\"1\" class=\"dataframe\">\n",
              "  <thead>\n",
              "    <tr style=\"text-align: right;\">\n",
              "      <th></th>\n",
              "      <th>0</th>\n",
              "      <th>1</th>\n",
              "      <th>2</th>\n",
              "      <th>3</th>\n",
              "      <th>4</th>\n",
              "    </tr>\n",
              "  </thead>\n",
              "  <tbody>\n",
              "    <tr>\n",
              "      <th>age</th>\n",
              "      <td>59</td>\n",
              "      <td>56</td>\n",
              "      <td>41</td>\n",
              "      <td>55</td>\n",
              "      <td>54</td>\n",
              "    </tr>\n",
              "    <tr>\n",
              "      <th>job</th>\n",
              "      <td>admin.</td>\n",
              "      <td>admin.</td>\n",
              "      <td>technician</td>\n",
              "      <td>services</td>\n",
              "      <td>admin.</td>\n",
              "    </tr>\n",
              "    <tr>\n",
              "      <th>marital</th>\n",
              "      <td>married</td>\n",
              "      <td>married</td>\n",
              "      <td>married</td>\n",
              "      <td>married</td>\n",
              "      <td>married</td>\n",
              "    </tr>\n",
              "    <tr>\n",
              "      <th>education</th>\n",
              "      <td>secondary</td>\n",
              "      <td>secondary</td>\n",
              "      <td>secondary</td>\n",
              "      <td>secondary</td>\n",
              "      <td>tertiary</td>\n",
              "    </tr>\n",
              "    <tr>\n",
              "      <th>default</th>\n",
              "      <td>no</td>\n",
              "      <td>no</td>\n",
              "      <td>no</td>\n",
              "      <td>no</td>\n",
              "      <td>no</td>\n",
              "    </tr>\n",
              "    <tr>\n",
              "      <th>balance</th>\n",
              "      <td>2343</td>\n",
              "      <td>45</td>\n",
              "      <td>1270</td>\n",
              "      <td>2476</td>\n",
              "      <td>184</td>\n",
              "    </tr>\n",
              "    <tr>\n",
              "      <th>housing</th>\n",
              "      <td>yes</td>\n",
              "      <td>no</td>\n",
              "      <td>yes</td>\n",
              "      <td>yes</td>\n",
              "      <td>no</td>\n",
              "    </tr>\n",
              "    <tr>\n",
              "      <th>loan</th>\n",
              "      <td>no</td>\n",
              "      <td>no</td>\n",
              "      <td>no</td>\n",
              "      <td>no</td>\n",
              "      <td>no</td>\n",
              "    </tr>\n",
              "    <tr>\n",
              "      <th>contact</th>\n",
              "      <td>unknown</td>\n",
              "      <td>unknown</td>\n",
              "      <td>unknown</td>\n",
              "      <td>unknown</td>\n",
              "      <td>unknown</td>\n",
              "    </tr>\n",
              "    <tr>\n",
              "      <th>day</th>\n",
              "      <td>5</td>\n",
              "      <td>5</td>\n",
              "      <td>5</td>\n",
              "      <td>5</td>\n",
              "      <td>5</td>\n",
              "    </tr>\n",
              "    <tr>\n",
              "      <th>month</th>\n",
              "      <td>may</td>\n",
              "      <td>may</td>\n",
              "      <td>may</td>\n",
              "      <td>may</td>\n",
              "      <td>may</td>\n",
              "    </tr>\n",
              "    <tr>\n",
              "      <th>duration</th>\n",
              "      <td>1042</td>\n",
              "      <td>1467</td>\n",
              "      <td>1389</td>\n",
              "      <td>579</td>\n",
              "      <td>673</td>\n",
              "    </tr>\n",
              "    <tr>\n",
              "      <th>campaign</th>\n",
              "      <td>1</td>\n",
              "      <td>1</td>\n",
              "      <td>1</td>\n",
              "      <td>1</td>\n",
              "      <td>2</td>\n",
              "    </tr>\n",
              "    <tr>\n",
              "      <th>pdays</th>\n",
              "      <td>-1</td>\n",
              "      <td>-1</td>\n",
              "      <td>-1</td>\n",
              "      <td>-1</td>\n",
              "      <td>-1</td>\n",
              "    </tr>\n",
              "    <tr>\n",
              "      <th>previous</th>\n",
              "      <td>0</td>\n",
              "      <td>0</td>\n",
              "      <td>0</td>\n",
              "      <td>0</td>\n",
              "      <td>0</td>\n",
              "    </tr>\n",
              "    <tr>\n",
              "      <th>poutcome</th>\n",
              "      <td>unknown</td>\n",
              "      <td>unknown</td>\n",
              "      <td>unknown</td>\n",
              "      <td>unknown</td>\n",
              "      <td>unknown</td>\n",
              "    </tr>\n",
              "    <tr>\n",
              "      <th>deposit</th>\n",
              "      <td>yes</td>\n",
              "      <td>yes</td>\n",
              "      <td>yes</td>\n",
              "      <td>yes</td>\n",
              "      <td>yes</td>\n",
              "    </tr>\n",
              "  </tbody>\n",
              "</table>\n",
              "</div>"
            ],
            "text/plain": [
              "                   0          1           2          3         4\n",
              "age               59         56          41         55        54\n",
              "job           admin.     admin.  technician   services    admin.\n",
              "marital      married    married     married    married   married\n",
              "education  secondary  secondary   secondary  secondary  tertiary\n",
              "default           no         no          no         no        no\n",
              "balance         2343         45        1270       2476       184\n",
              "housing          yes         no         yes        yes        no\n",
              "loan              no         no          no         no        no\n",
              "contact      unknown    unknown     unknown    unknown   unknown\n",
              "day                5          5           5          5         5\n",
              "month            may        may         may        may       may\n",
              "duration        1042       1467        1389        579       673\n",
              "campaign           1          1           1          1         2\n",
              "pdays             -1         -1          -1         -1        -1\n",
              "previous           0          0           0          0         0\n",
              "poutcome     unknown    unknown     unknown    unknown   unknown\n",
              "deposit          yes        yes         yes        yes       yes"
            ]
          },
          "metadata": {
            "tags": []
          },
          "execution_count": 5
        }
      ]
    },
    {
      "cell_type": "code",
      "metadata": {
        "id": "kGzNZkJbmdpd",
        "colab": {
          "base_uri": "https://localhost:8080/",
          "height": 111
        },
        "outputId": "969ec85b-52fe-4d0f-ca00-af1565f93d41"
      },
      "source": [
        "# Data grouping by class \n",
        "class_name = df.columns[len(df.columns)-1]\n",
        "df.groupby(class_name).count().toPandas()"
      ],
      "execution_count": 6,
      "outputs": [
        {
          "output_type": "execute_result",
          "data": {
            "text/html": [
              "<div>\n",
              "<style scoped>\n",
              "    .dataframe tbody tr th:only-of-type {\n",
              "        vertical-align: middle;\n",
              "    }\n",
              "\n",
              "    .dataframe tbody tr th {\n",
              "        vertical-align: top;\n",
              "    }\n",
              "\n",
              "    .dataframe thead th {\n",
              "        text-align: right;\n",
              "    }\n",
              "</style>\n",
              "<table border=\"1\" class=\"dataframe\">\n",
              "  <thead>\n",
              "    <tr style=\"text-align: right;\">\n",
              "      <th></th>\n",
              "      <th>deposit</th>\n",
              "      <th>count</th>\n",
              "    </tr>\n",
              "  </thead>\n",
              "  <tbody>\n",
              "    <tr>\n",
              "      <th>0</th>\n",
              "      <td>no</td>\n",
              "      <td>5873</td>\n",
              "    </tr>\n",
              "    <tr>\n",
              "      <th>1</th>\n",
              "      <td>yes</td>\n",
              "      <td>5289</td>\n",
              "    </tr>\n",
              "  </tbody>\n",
              "</table>\n",
              "</div>"
            ],
            "text/plain": [
              "  deposit  count\n",
              "0      no   5873\n",
              "1     yes   5289"
            ]
          },
          "metadata": {
            "tags": []
          },
          "execution_count": 6
        }
      ]
    },
    {
      "cell_type": "code",
      "metadata": {
        "id": "pXDl0PEbDTPs"
      },
      "source": [
        "# convert string to numeric \n",
        "from pyspark.ml.feature import StringIndexer\n",
        "indexer = StringIndexer()\n",
        "indexer.setInputCol(class_name).setOutputCol(\"label\")\n",
        "df1 = indexer.fit(df).transform(df)\n"
      ],
      "execution_count": 7,
      "outputs": []
    },
    {
      "cell_type": "code",
      "metadata": {
        "id": "HY4BSSyRagXe"
      },
      "source": [
        "indexer.setInputCol(\"job\").setOutputCol(\"job1\")\n",
        "df1 = indexer.fit(df1).transform(df1)\n",
        "indexer.setInputCol(\"marital\").setOutputCol(\"marital1\")\n",
        "df1 = indexer.fit(df1).transform(df1)\n",
        "indexer.setInputCol(\"education\").setOutputCol(\"education1\")\n",
        "df1 = indexer.fit(df1).transform(df1)\n",
        "indexer.setInputCol(\"default\").setOutputCol(\"default1\")\n",
        "df1 = indexer.fit(df1).transform(df1)\n",
        "indexer.setInputCol(\"housing\").setOutputCol(\"housing1\")\n",
        "df1 = indexer.fit(df1).transform(df1)\n",
        "indexer.setInputCol(\"loan\").setOutputCol(\"loan1\")\n",
        "df1 = indexer.fit(df1).transform(df1)\n",
        "indexer.setInputCol(\"contact\").setOutputCol(\"contact1\")\n",
        "df1 = indexer.fit(df1).transform(df1)\n",
        "indexer.setInputCol(\"poutcome\").setOutputCol(\"poutcome1\")\n",
        "df1 = indexer.fit(df1).transform(df1)\n",
        "indexer.setInputCol(\"deposit\").setOutputCol(\"deposit1\")\n",
        "df1 = indexer.fit(df1).transform(df1)\n",
        "indexer.setInputCol(\"month\").setOutputCol(\"month1\")\n",
        "df1 = indexer.fit(df1).transform(df1)"
      ],
      "execution_count": 8,
      "outputs": []
    },
    {
      "cell_type": "code",
      "metadata": {
        "id": "YniicMYpEj6c",
        "colab": {
          "base_uri": "https://localhost:8080/"
        },
        "outputId": "d98be952-90c1-4d56-f580-265440046977"
      },
      "source": [
        "df1.show()"
      ],
      "execution_count": 19,
      "outputs": [
        {
          "output_type": "stream",
          "text": [
            "+---+-----------+--------+---------+-------+-------+-------+----+-------+---+-----+--------+--------+-----+--------+--------+-------+-----+----+--------+----------+--------+--------+-----+--------+---------+--------+------+\n",
            "|age|        job| marital|education|default|balance|housing|loan|contact|day|month|duration|campaign|pdays|previous|poutcome|deposit|label|job1|marital1|education1|default1|housing1|loan1|contact1|poutcome1|deposit1|month1|\n",
            "+---+-----------+--------+---------+-------+-------+-------+----+-------+---+-----+--------+--------+-----+--------+--------+-------+-----+----+--------+----------+--------+--------+-----+--------+---------+--------+------+\n",
            "| 59|     admin.| married|secondary|     no|   2343|    yes|  no|unknown|  5|  may|    1042|       1|   -1|       0| unknown|    yes|  1.0| 3.0|     0.0|       0.0|     0.0|     1.0|  0.0|     1.0|      0.0|     1.0|   0.0|\n",
            "| 56|     admin.| married|secondary|     no|     45|     no|  no|unknown|  5|  may|    1467|       1|   -1|       0| unknown|    yes|  1.0| 3.0|     0.0|       0.0|     0.0|     0.0|  0.0|     1.0|      0.0|     1.0|   0.0|\n",
            "| 41| technician| married|secondary|     no|   1270|    yes|  no|unknown|  5|  may|    1389|       1|   -1|       0| unknown|    yes|  1.0| 2.0|     0.0|       0.0|     0.0|     1.0|  0.0|     1.0|      0.0|     1.0|   0.0|\n",
            "| 55|   services| married|secondary|     no|   2476|    yes|  no|unknown|  5|  may|     579|       1|   -1|       0| unknown|    yes|  1.0| 4.0|     0.0|       0.0|     0.0|     1.0|  0.0|     1.0|      0.0|     1.0|   0.0|\n",
            "| 54|     admin.| married| tertiary|     no|    184|     no|  no|unknown|  5|  may|     673|       2|   -1|       0| unknown|    yes|  1.0| 3.0|     0.0|       1.0|     0.0|     0.0|  0.0|     1.0|      0.0|     1.0|   0.0|\n",
            "| 42| management|  single| tertiary|     no|      0|    yes| yes|unknown|  5|  may|     562|       2|   -1|       0| unknown|    yes|  1.0| 0.0|     1.0|       1.0|     0.0|     1.0|  1.0|     1.0|      0.0|     1.0|   0.0|\n",
            "| 56| management| married| tertiary|     no|    830|    yes| yes|unknown|  6|  may|    1201|       1|   -1|       0| unknown|    yes|  1.0| 0.0|     0.0|       1.0|     0.0|     1.0|  1.0|     1.0|      0.0|     1.0|   0.0|\n",
            "| 60|    retired|divorced|secondary|     no|    545|    yes|  no|unknown|  6|  may|    1030|       1|   -1|       0| unknown|    yes|  1.0| 5.0|     2.0|       0.0|     0.0|     1.0|  0.0|     1.0|      0.0|     1.0|   0.0|\n",
            "| 37| technician| married|secondary|     no|      1|    yes|  no|unknown|  6|  may|     608|       1|   -1|       0| unknown|    yes|  1.0| 2.0|     0.0|       0.0|     0.0|     1.0|  0.0|     1.0|      0.0|     1.0|   0.0|\n",
            "| 28|   services|  single|secondary|     no|   5090|    yes|  no|unknown|  6|  may|    1297|       3|   -1|       0| unknown|    yes|  1.0| 4.0|     1.0|       0.0|     0.0|     1.0|  0.0|     1.0|      0.0|     1.0|   0.0|\n",
            "| 38|     admin.|  single|secondary|     no|    100|    yes|  no|unknown|  7|  may|     786|       1|   -1|       0| unknown|    yes|  1.0| 3.0|     1.0|       0.0|     0.0|     1.0|  0.0|     1.0|      0.0|     1.0|   0.0|\n",
            "| 30|blue-collar| married|secondary|     no|    309|    yes|  no|unknown|  7|  may|    1574|       2|   -1|       0| unknown|    yes|  1.0| 1.0|     0.0|       0.0|     0.0|     1.0|  0.0|     1.0|      0.0|     1.0|   0.0|\n",
            "| 29| management| married| tertiary|     no|    199|    yes| yes|unknown|  7|  may|    1689|       4|   -1|       0| unknown|    yes|  1.0| 0.0|     0.0|       1.0|     0.0|     1.0|  1.0|     1.0|      0.0|     1.0|   0.0|\n",
            "| 46|blue-collar|  single| tertiary|     no|    460|    yes|  no|unknown|  7|  may|    1102|       2|   -1|       0| unknown|    yes|  1.0| 1.0|     1.0|       1.0|     0.0|     1.0|  0.0|     1.0|      0.0|     1.0|   0.0|\n",
            "| 31| technician|  single| tertiary|     no|    703|    yes|  no|unknown|  8|  may|     943|       2|   -1|       0| unknown|    yes|  1.0| 2.0|     1.0|       1.0|     0.0|     1.0|  0.0|     1.0|      0.0|     1.0|   0.0|\n",
            "| 35| management|divorced| tertiary|     no|   3837|    yes|  no|unknown|  8|  may|    1084|       1|   -1|       0| unknown|    yes|  1.0| 0.0|     2.0|       1.0|     0.0|     1.0|  0.0|     1.0|      0.0|     1.0|   0.0|\n",
            "| 32|blue-collar|  single|  primary|     no|    611|    yes|  no|unknown|  8|  may|     541|       3|   -1|       0| unknown|    yes|  1.0| 1.0|     1.0|       2.0|     0.0|     1.0|  0.0|     1.0|      0.0|     1.0|   0.0|\n",
            "| 49|   services| married|secondary|     no|     -8|    yes|  no|unknown|  8|  may|    1119|       1|   -1|       0| unknown|    yes|  1.0| 4.0|     0.0|       0.0|     0.0|     1.0|  0.0|     1.0|      0.0|     1.0|   0.0|\n",
            "| 41|     admin.| married|secondary|     no|     55|    yes|  no|unknown|  8|  may|    1120|       2|   -1|       0| unknown|    yes|  1.0| 3.0|     0.0|       0.0|     0.0|     1.0|  0.0|     1.0|      0.0|     1.0|   0.0|\n",
            "| 49|     admin.|divorced|secondary|     no|    168|    yes| yes|unknown|  8|  may|     513|       1|   -1|       0| unknown|    yes|  1.0| 3.0|     2.0|       0.0|     0.0|     1.0|  1.0|     1.0|      0.0|     1.0|   0.0|\n",
            "+---+-----------+--------+---------+-------+-------+-------+----+-------+---+-----+--------+--------+-----+--------+--------+-------+-----+----+--------+----------+--------+--------+-----+--------+---------+--------+------+\n",
            "only showing top 20 rows\n",
            "\n"
          ],
          "name": "stdout"
        }
      ]
    },
    {
      "cell_type": "code",
      "metadata": {
        "id": "YZM3tjtfoURi",
        "colab": {
          "base_uri": "https://localhost:8080/"
        },
        "outputId": "2e234ef1-81df-413b-ba22-8a8fb8a469a2"
      },
      "source": [
        "# features and class \n",
        "class_name = 'label'\n",
        "feature_names = ['job1','marital1','education1','default1','housing1','loan1','contact1','poutcome1','deposit1','month1','balance','day','duration','campaign','pdays','previous']\n",
        "print(class_name)\n",
        "print(feature_names)"
      ],
      "execution_count": 11,
      "outputs": [
        {
          "output_type": "stream",
          "text": [
            "label\n",
            "['job1', 'marital1', 'education1', 'default1', 'housing1', 'loan1', 'contact1', 'poutcome1', 'deposit1', 'month1', 'balance', 'day', 'duration', 'campaign', 'pdays', 'previous']\n"
          ],
          "name": "stdout"
        }
      ]
    },
    {
      "cell_type": "code",
      "metadata": {
        "id": "ghq-y03buNuZ"
      },
      "source": [
        "from pyspark.ml.feature import VectorAssembler\n",
        "\n",
        "assembler = VectorAssembler()\n",
        "assembler.setInputCols(feature_names).setOutputCol('features')\n",
        "\n",
        "transformed_data = assembler.transform(df1)"
      ],
      "execution_count": 12,
      "outputs": []
    },
    {
      "cell_type": "code",
      "metadata": {
        "id": "ivpP00Acd637"
      },
      "source": [
        ""
      ],
      "execution_count": 12,
      "outputs": []
    },
    {
      "cell_type": "code",
      "metadata": {
        "id": "P955k-7Pu00v",
        "colab": {
          "base_uri": "https://localhost:8080/"
        },
        "outputId": "5054a783-94b1-4824-deb9-f179f97c03f7"
      },
      "source": [
        "transformed_data.show()"
      ],
      "execution_count": 13,
      "outputs": [
        {
          "output_type": "stream",
          "text": [
            "+---+-----------+--------+---------+-------+-------+-------+----+-------+---+-----+--------+--------+-----+--------+--------+-------+-----+----+--------+----------+--------+--------+-----+--------+---------+--------+------+--------------------+\n",
            "|age|        job| marital|education|default|balance|housing|loan|contact|day|month|duration|campaign|pdays|previous|poutcome|deposit|label|job1|marital1|education1|default1|housing1|loan1|contact1|poutcome1|deposit1|month1|            features|\n",
            "+---+-----------+--------+---------+-------+-------+-------+----+-------+---+-----+--------+--------+-----+--------+--------+-------+-----+----+--------+----------+--------+--------+-----+--------+---------+--------+------+--------------------+\n",
            "| 59|     admin.| married|secondary|     no|   2343|    yes|  no|unknown|  5|  may|    1042|       1|   -1|       0| unknown|    yes|  1.0| 3.0|     0.0|       0.0|     0.0|     1.0|  0.0|     1.0|      0.0|     1.0|   0.0|(16,[0,4,6,8,10,1...|\n",
            "| 56|     admin.| married|secondary|     no|     45|     no|  no|unknown|  5|  may|    1467|       1|   -1|       0| unknown|    yes|  1.0| 3.0|     0.0|       0.0|     0.0|     0.0|  0.0|     1.0|      0.0|     1.0|   0.0|(16,[0,6,8,10,11,...|\n",
            "| 41| technician| married|secondary|     no|   1270|    yes|  no|unknown|  5|  may|    1389|       1|   -1|       0| unknown|    yes|  1.0| 2.0|     0.0|       0.0|     0.0|     1.0|  0.0|     1.0|      0.0|     1.0|   0.0|(16,[0,4,6,8,10,1...|\n",
            "| 55|   services| married|secondary|     no|   2476|    yes|  no|unknown|  5|  may|     579|       1|   -1|       0| unknown|    yes|  1.0| 4.0|     0.0|       0.0|     0.0|     1.0|  0.0|     1.0|      0.0|     1.0|   0.0|(16,[0,4,6,8,10,1...|\n",
            "| 54|     admin.| married| tertiary|     no|    184|     no|  no|unknown|  5|  may|     673|       2|   -1|       0| unknown|    yes|  1.0| 3.0|     0.0|       1.0|     0.0|     0.0|  0.0|     1.0|      0.0|     1.0|   0.0|(16,[0,2,6,8,10,1...|\n",
            "| 42| management|  single| tertiary|     no|      0|    yes| yes|unknown|  5|  may|     562|       2|   -1|       0| unknown|    yes|  1.0| 0.0|     1.0|       1.0|     0.0|     1.0|  1.0|     1.0|      0.0|     1.0|   0.0|[0.0,1.0,1.0,0.0,...|\n",
            "| 56| management| married| tertiary|     no|    830|    yes| yes|unknown|  6|  may|    1201|       1|   -1|       0| unknown|    yes|  1.0| 0.0|     0.0|       1.0|     0.0|     1.0|  1.0|     1.0|      0.0|     1.0|   0.0|[0.0,0.0,1.0,0.0,...|\n",
            "| 60|    retired|divorced|secondary|     no|    545|    yes|  no|unknown|  6|  may|    1030|       1|   -1|       0| unknown|    yes|  1.0| 5.0|     2.0|       0.0|     0.0|     1.0|  0.0|     1.0|      0.0|     1.0|   0.0|[5.0,2.0,0.0,0.0,...|\n",
            "| 37| technician| married|secondary|     no|      1|    yes|  no|unknown|  6|  may|     608|       1|   -1|       0| unknown|    yes|  1.0| 2.0|     0.0|       0.0|     0.0|     1.0|  0.0|     1.0|      0.0|     1.0|   0.0|(16,[0,4,6,8,10,1...|\n",
            "| 28|   services|  single|secondary|     no|   5090|    yes|  no|unknown|  6|  may|    1297|       3|   -1|       0| unknown|    yes|  1.0| 4.0|     1.0|       0.0|     0.0|     1.0|  0.0|     1.0|      0.0|     1.0|   0.0|[4.0,1.0,0.0,0.0,...|\n",
            "| 38|     admin.|  single|secondary|     no|    100|    yes|  no|unknown|  7|  may|     786|       1|   -1|       0| unknown|    yes|  1.0| 3.0|     1.0|       0.0|     0.0|     1.0|  0.0|     1.0|      0.0|     1.0|   0.0|[3.0,1.0,0.0,0.0,...|\n",
            "| 30|blue-collar| married|secondary|     no|    309|    yes|  no|unknown|  7|  may|    1574|       2|   -1|       0| unknown|    yes|  1.0| 1.0|     0.0|       0.0|     0.0|     1.0|  0.0|     1.0|      0.0|     1.0|   0.0|(16,[0,4,6,8,10,1...|\n",
            "| 29| management| married| tertiary|     no|    199|    yes| yes|unknown|  7|  may|    1689|       4|   -1|       0| unknown|    yes|  1.0| 0.0|     0.0|       1.0|     0.0|     1.0|  1.0|     1.0|      0.0|     1.0|   0.0|[0.0,0.0,1.0,0.0,...|\n",
            "| 46|blue-collar|  single| tertiary|     no|    460|    yes|  no|unknown|  7|  may|    1102|       2|   -1|       0| unknown|    yes|  1.0| 1.0|     1.0|       1.0|     0.0|     1.0|  0.0|     1.0|      0.0|     1.0|   0.0|[1.0,1.0,1.0,0.0,...|\n",
            "| 31| technician|  single| tertiary|     no|    703|    yes|  no|unknown|  8|  may|     943|       2|   -1|       0| unknown|    yes|  1.0| 2.0|     1.0|       1.0|     0.0|     1.0|  0.0|     1.0|      0.0|     1.0|   0.0|[2.0,1.0,1.0,0.0,...|\n",
            "| 35| management|divorced| tertiary|     no|   3837|    yes|  no|unknown|  8|  may|    1084|       1|   -1|       0| unknown|    yes|  1.0| 0.0|     2.0|       1.0|     0.0|     1.0|  0.0|     1.0|      0.0|     1.0|   0.0|[0.0,2.0,1.0,0.0,...|\n",
            "| 32|blue-collar|  single|  primary|     no|    611|    yes|  no|unknown|  8|  may|     541|       3|   -1|       0| unknown|    yes|  1.0| 1.0|     1.0|       2.0|     0.0|     1.0|  0.0|     1.0|      0.0|     1.0|   0.0|[1.0,1.0,2.0,0.0,...|\n",
            "| 49|   services| married|secondary|     no|     -8|    yes|  no|unknown|  8|  may|    1119|       1|   -1|       0| unknown|    yes|  1.0| 4.0|     0.0|       0.0|     0.0|     1.0|  0.0|     1.0|      0.0|     1.0|   0.0|(16,[0,4,6,8,10,1...|\n",
            "| 41|     admin.| married|secondary|     no|     55|    yes|  no|unknown|  8|  may|    1120|       2|   -1|       0| unknown|    yes|  1.0| 3.0|     0.0|       0.0|     0.0|     1.0|  0.0|     1.0|      0.0|     1.0|   0.0|(16,[0,4,6,8,10,1...|\n",
            "| 49|     admin.|divorced|secondary|     no|    168|    yes| yes|unknown|  8|  may|     513|       1|   -1|       0| unknown|    yes|  1.0| 3.0|     2.0|       0.0|     0.0|     1.0|  1.0|     1.0|      0.0|     1.0|   0.0|[3.0,2.0,0.0,0.0,...|\n",
            "+---+-----------+--------+---------+-------+-------+-------+----+-------+---+-----+--------+--------+-----+--------+--------+-------+-----+----+--------+----------+--------+--------+-----+--------+---------+--------+------+--------------------+\n",
            "only showing top 20 rows\n",
            "\n"
          ],
          "name": "stdout"
        }
      ]
    },
    {
      "cell_type": "code",
      "metadata": {
        "id": "eUGbwhoUBqpJ"
      },
      "source": [
        "# Split the data\n",
        "(training_data, test_data) = transformed_data.randomSplit([0.8,0.2])"
      ],
      "execution_count": 14,
      "outputs": []
    },
    {
      "cell_type": "code",
      "metadata": {
        "id": "TLVChEegnt5i"
      },
      "source": [
        "from pyspark.ml.classification import LogisticRegression\n",
        "model = LogisticRegression(featuresCol = 'features',labelCol=class_name, maxIter=30)"
      ],
      "execution_count": 15,
      "outputs": []
    },
    {
      "cell_type": "code",
      "metadata": {
        "id": "QLwPvloPn-xr"
      },
      "source": [
        "M = model.fit(training_data)"
      ],
      "execution_count": 16,
      "outputs": []
    },
    {
      "cell_type": "code",
      "metadata": {
        "id": "Ma8Zf-4NBjnA"
      },
      "source": [
        "# Predict with the test dataset\n",
        "predictions = M.transform(test_data)"
      ],
      "execution_count": 17,
      "outputs": []
    },
    {
      "cell_type": "code",
      "metadata": {
        "id": "XW9rCFfdGkuI",
        "colab": {
          "base_uri": "https://localhost:8080/"
        },
        "outputId": "eb836a39-3112-4e96-988a-494841f24a9f"
      },
      "source": [
        "from pyspark.ml.evaluation import MulticlassClassificationEvaluator\n",
        "\n",
        "multi_evaluator = MulticlassClassificationEvaluator(labelCol = 'label', metricName = 'accuracy')\n",
        "print('Logistic Regression Accuracy:', multi_evaluator.evaluate(predictions))\n"
      ],
      "execution_count": 18,
      "outputs": [
        {
          "output_type": "stream",
          "text": [
            "Logistic Regression Accuracy: 1.0\n"
          ],
          "name": "stdout"
        }
      ]
    }
  ]
}