{
  "nbformat": 4,
  "nbformat_minor": 0,
  "metadata": {
    "colab": {
      "name": "51800908_Euclidean.ipynb",
      "provenance": []
    },
    "kernelspec": {
      "name": "python3",
      "display_name": "Python 3"
    },
    "language_info": {
      "name": "python"
    }
  },
  "cells": [
    {
      "cell_type": "code",
      "metadata": {
        "colab": {
          "base_uri": "https://localhost:8080/"
        },
        "id": "vVSEbN4-jLSv",
        "outputId": "d64e91b9-8d08-405b-a032-26a1f95391ea"
      },
      "source": [
        "pip install pyspark"
      ],
      "execution_count": 1,
      "outputs": [
        {
          "output_type": "stream",
          "text": [
            "Collecting pyspark\n",
            "\u001b[?25l  Downloading https://files.pythonhosted.org/packages/45/b0/9d6860891ab14a39d4bddf80ba26ce51c2f9dc4805e5c6978ac0472c120a/pyspark-3.1.1.tar.gz (212.3MB)\n",
            "\u001b[K     |████████████████████████████████| 212.3MB 69kB/s \n",
            "\u001b[?25hCollecting py4j==0.10.9\n",
            "\u001b[?25l  Downloading https://files.pythonhosted.org/packages/9e/b6/6a4fb90cd235dc8e265a6a2067f2a2c99f0d91787f06aca4bcf7c23f3f80/py4j-0.10.9-py2.py3-none-any.whl (198kB)\n",
            "\u001b[K     |████████████████████████████████| 204kB 55.9MB/s \n",
            "\u001b[?25hBuilding wheels for collected packages: pyspark\n",
            "  Building wheel for pyspark (setup.py) ... \u001b[?25l\u001b[?25hdone\n",
            "  Created wheel for pyspark: filename=pyspark-3.1.1-py2.py3-none-any.whl size=212767604 sha256=dc684d3c1dbe15d333df387434e7240544bd5231d39b67ac73ad57b61560c808\n",
            "  Stored in directory: /root/.cache/pip/wheels/0b/90/c0/01de724414ef122bd05f056541fb6a0ecf47c7ca655f8b3c0f\n",
            "Successfully built pyspark\n",
            "Installing collected packages: py4j, pyspark\n",
            "Successfully installed py4j-0.10.9 pyspark-3.1.1\n"
          ],
          "name": "stdout"
        }
      ]
    },
    {
      "cell_type": "code",
      "metadata": {
        "id": "VBClVB2EjUxU"
      },
      "source": [
        "import time\n",
        "from pyspark import SparkConf, SparkContext\n",
        "from pyspark.sql import SparkSession"
      ],
      "execution_count": 3,
      "outputs": []
    },
    {
      "cell_type": "code",
      "metadata": {
        "id": "uwB83rDhj5Wl"
      },
      "source": [
        "from pyspark.sql import SparkSession\n",
        "spark = SparkSession.builder.getOrCreate()\n",
        "sc = SparkContext.getOrCreate()"
      ],
      "execution_count": 5,
      "outputs": []
    },
    {
      "cell_type": "code",
      "metadata": {
        "colab": {
          "base_uri": "https://localhost:8080/"
        },
        "id": "h_dpeHl0kTbx",
        "outputId": "90e58fab-9e55-46c7-c5ef-a859b3c0c42f"
      },
      "source": [
        "import pandas as pd\n",
        "df = spark.read.csv('machine.data')\n",
        "df.show()"
      ],
      "execution_count": 8,
      "outputs": [
        {
          "output_type": "stream",
          "text": [
            "+---------+--------+---+-----+-----+---+---+---+----+----+\n",
            "|      _c0|     _c1|_c2|  _c3|  _c4|_c5|_c6|_c7| _c8| _c9|\n",
            "+---------+--------+---+-----+-----+---+---+---+----+----+\n",
            "|  adviser|   32/60|125|  256| 6000|256| 16|128| 198| 199|\n",
            "|   amdahl|  470v/7| 29| 8000|32000| 32|  8| 32| 269| 253|\n",
            "|   amdahl| 470v/7a| 29| 8000|32000| 32|  8| 32| 220| 253|\n",
            "|   amdahl| 470v/7b| 29| 8000|32000| 32|  8| 32| 172| 253|\n",
            "|   amdahl| 470v/7c| 29| 8000|16000| 32|  8| 16| 132| 132|\n",
            "|   amdahl|  470v/b| 26| 8000|32000| 64|  8| 32| 318| 290|\n",
            "|   amdahl|580-5840| 23|16000|32000| 64| 16| 32| 367| 381|\n",
            "|   amdahl|580-5850| 23|16000|32000| 64| 16| 32| 489| 381|\n",
            "|   amdahl|580-5860| 23|16000|64000| 64| 16| 32| 636| 749|\n",
            "|   amdahl|580-5880| 23|32000|64000|128| 32| 64|1144|1238|\n",
            "|   apollo|   dn320|400| 1000| 3000|  0|  1|  2|  38|  23|\n",
            "|   apollo|   dn420|400|  512| 3500|  4|  1|  6|  40|  24|\n",
            "|     basf|    7/65| 60| 2000| 8000| 65|  1|  8|  92|  70|\n",
            "|     basf|    7/68| 50| 4000|16000| 65|  1|  8| 138| 117|\n",
            "|      bti|    5000|350|   64|   64|  0|  1|  4|  10|  15|\n",
            "|      bti|    8000|200|  512|16000|  0|  4| 32|  35|  64|\n",
            "|burroughs|   b1955|167|  524| 2000|  8|  4| 15|  19|  23|\n",
            "|burroughs|   b2900|143|  512| 5000|  0|  7| 32|  28|  29|\n",
            "|burroughs|   b2925|143| 1000| 2000|  0|  5| 16|  31|  22|\n",
            "|burroughs|   b4955|110| 5000| 5000|142|  8| 64| 120| 124|\n",
            "+---------+--------+---+-----+-----+---+---+---+----+----+\n",
            "only showing top 20 rows\n",
            "\n"
          ],
          "name": "stdout"
        }
      ]
    },
    {
      "cell_type": "code",
      "metadata": {
        "id": "0LbMWM89l8J6"
      },
      "source": [
        "names = ['vendor name','Model name', 'MYCT', 'MMIN', 'MMAX', 'CACH', 'CHMIN', 'CHMAX', 'PRP', 'ERP']"
      ],
      "execution_count": 9,
      "outputs": []
    },
    {
      "cell_type": "code",
      "metadata": {
        "id": "zpQQQqqumvgj"
      },
      "source": [
        "k = df.columns\n",
        "old = df.schema.names\n",
        "for i in range(len(df.columns)):\n",
        "  df = df.withColumnRenamed(old[i],names[i])"
      ],
      "execution_count": null,
      "outputs": []
    },
    {
      "cell_type": "code",
      "metadata": {
        "colab": {
          "base_uri": "https://localhost:8080/"
        },
        "id": "bJ_PAhC-nsV_",
        "outputId": "c5d7be1a-d3cd-4069-e70f-c52b751bda98"
      },
      "source": [
        "df = df.na.drop()\n",
        "df.show()"
      ],
      "execution_count": 17,
      "outputs": [
        {
          "output_type": "stream",
          "text": [
            "+-----------+----------+----+-----+-----+----+-----+-----+----+----+\n",
            "|vendor name|Model name|MYCT| MMIN| MMAX|CACH|CHMIN|CHMAX| PRP| ERP|\n",
            "+-----------+----------+----+-----+-----+----+-----+-----+----+----+\n",
            "|    adviser|     32/60| 125|  256| 6000| 256|   16|  128| 198| 199|\n",
            "|     amdahl|    470v/7|  29| 8000|32000|  32|    8|   32| 269| 253|\n",
            "|     amdahl|   470v/7a|  29| 8000|32000|  32|    8|   32| 220| 253|\n",
            "|     amdahl|   470v/7b|  29| 8000|32000|  32|    8|   32| 172| 253|\n",
            "|     amdahl|   470v/7c|  29| 8000|16000|  32|    8|   16| 132| 132|\n",
            "|     amdahl|    470v/b|  26| 8000|32000|  64|    8|   32| 318| 290|\n",
            "|     amdahl|  580-5840|  23|16000|32000|  64|   16|   32| 367| 381|\n",
            "|     amdahl|  580-5850|  23|16000|32000|  64|   16|   32| 489| 381|\n",
            "|     amdahl|  580-5860|  23|16000|64000|  64|   16|   32| 636| 749|\n",
            "|     amdahl|  580-5880|  23|32000|64000| 128|   32|   64|1144|1238|\n",
            "|     apollo|     dn320| 400| 1000| 3000|   0|    1|    2|  38|  23|\n",
            "|     apollo|     dn420| 400|  512| 3500|   4|    1|    6|  40|  24|\n",
            "|       basf|      7/65|  60| 2000| 8000|  65|    1|    8|  92|  70|\n",
            "|       basf|      7/68|  50| 4000|16000|  65|    1|    8| 138| 117|\n",
            "|        bti|      5000| 350|   64|   64|   0|    1|    4|  10|  15|\n",
            "|        bti|      8000| 200|  512|16000|   0|    4|   32|  35|  64|\n",
            "|  burroughs|     b1955| 167|  524| 2000|   8|    4|   15|  19|  23|\n",
            "|  burroughs|     b2900| 143|  512| 5000|   0|    7|   32|  28|  29|\n",
            "|  burroughs|     b2925| 143| 1000| 2000|   0|    5|   16|  31|  22|\n",
            "|  burroughs|     b4955| 110| 5000| 5000| 142|    8|   64| 120| 124|\n",
            "+-----------+----------+----+-----+-----+----+-----+-----+----+----+\n",
            "only showing top 20 rows\n",
            "\n"
          ],
          "name": "stdout"
        }
      ]
    },
    {
      "cell_type": "code",
      "metadata": {
        "id": "xPS332g6rYMV",
        "outputId": "e1e5988a-05ad-4838-87d6-ca1abe18b7e7",
        "colab": {
          "base_uri": "https://localhost:8080/"
        }
      },
      "source": [
        "df.printSchema()"
      ],
      "execution_count": 18,
      "outputs": [
        {
          "output_type": "stream",
          "text": [
            "root\n",
            " |-- vendor name: string (nullable = true)\n",
            " |-- Model name: string (nullable = true)\n",
            " |-- MYCT: string (nullable = true)\n",
            " |-- MMIN: string (nullable = true)\n",
            " |-- MMAX: string (nullable = true)\n",
            " |-- CACH: string (nullable = true)\n",
            " |-- CHMIN: string (nullable = true)\n",
            " |-- CHMAX: string (nullable = true)\n",
            " |-- PRP: string (nullable = true)\n",
            " |-- ERP: string (nullable = true)\n",
            "\n"
          ],
          "name": "stdout"
        }
      ]
    },
    {
      "cell_type": "code",
      "metadata": {
        "id": "bJAxHLF3rvPg",
        "outputId": "aebe34f7-9137-4e72-876e-a9f5da6d05d2",
        "colab": {
          "base_uri": "https://localhost:8080/"
        }
      },
      "source": [
        "from pyspark.ml import Pipeline\n",
        "from pyspark.ml.feature import StringIndexer\n",
        "\n",
        "indexers = [StringIndexer(inputCol=column, outputCol=column+\"_index\").fit(df) for column in list(set(df.columns)-set(['date'])) ]\n",
        "\n",
        "\n",
        "pipeline = Pipeline(stages=indexers)\n",
        "df_r = pipeline.fit(df).transform(df)\n",
        "\n",
        "df_r.show()\n"
      ],
      "execution_count": 19,
      "outputs": [
        {
          "output_type": "stream",
          "text": [
            "+-----------+----------+----+-----+-----+----+-----+-----+----+----+----------+----------+----------+----------+---------+-----------+----------------+-----------+-----------------+---------+\n",
            "|vendor name|Model name|MYCT| MMIN| MMAX|CACH|CHMIN|CHMAX| PRP| ERP|MMAX_index|MMIN_index|CACH_index|MYCT_index|PRP_index|CHMIN_index|Model name_index|CHMAX_index|vendor name_index|ERP_index|\n",
            "+-----------+----------+----+-----+-----+----+-----+-----+----+----+----------+----------+----------+----------+---------+-----------+----------------+-----------+-----------------+---------+\n",
            "|    adviser|     32/60| 125|  256| 6000| 256|   16|  128| 198| 199|       7.0|       5.0|      14.0|      23.0|     69.0|        5.0|            29.0|       19.0|             26.0|     66.0|\n",
            "|     amdahl|    470v/7|  29| 8000|32000|  32|    8|   32| 269| 253|       3.0|       4.0|       2.0|      18.0|     76.0|        2.0|            62.0|        3.0|              6.0|     16.0|\n",
            "|     amdahl|   470v/7a|  29| 8000|32000|  32|    8|   32| 220| 253|       3.0|       4.0|       2.0|      18.0|     71.0|        2.0|            63.0|        3.0|              6.0|     16.0|\n",
            "|     amdahl|   470v/7b|  29| 8000|32000|  32|    8|   32| 172| 253|       3.0|       4.0|       2.0|      18.0|     63.0|        2.0|            64.0|        3.0|              6.0|     16.0|\n",
            "|     amdahl|   470v/7c|  29| 8000|16000|  32|    8|   16| 132| 132|       1.0|       4.0|       2.0|      18.0|     21.0|        2.0|            65.0|        5.0|              6.0|     53.0|\n",
            "|     amdahl|    470v/b|  26| 8000|32000|  64|    8|   32| 318| 290|       3.0|       4.0|       3.0|       2.0|     81.0|        2.0|            66.0|        3.0|              6.0|     74.0|\n",
            "|     amdahl|  580-5840|  23|16000|32000|  64|   16|   32| 367| 381|       3.0|       7.0|       3.0|      16.0|     83.0|        5.0|            74.0|        3.0|              6.0|     34.0|\n",
            "|     amdahl|  580-5850|  23|16000|32000|  64|   16|   32| 489| 381|       3.0|       7.0|       3.0|      16.0|     91.0|        5.0|            75.0|        3.0|              6.0|     34.0|\n",
            "|     amdahl|  580-5860|  23|16000|64000|  64|   16|   32| 636| 749|      11.0|       7.0|       3.0|      16.0|    100.0|        5.0|            76.0|        3.0|              6.0|     95.0|\n",
            "|     amdahl|  580-5880|  23|32000|64000| 128|   32|   64|1144|1238|      11.0|      19.0|       7.0|      16.0|     51.0|       13.0|            77.0|       13.0|              6.0|     49.0|\n",
            "|     apollo|     dn320| 400| 1000| 3000|   0|    1|    2|  38|  23|       8.0|       1.0|       0.0|      19.0|     13.0|        0.0|           148.0|        6.0|             22.0|      6.0|\n",
            "|     apollo|     dn420| 400|  512| 3500|   4|    1|    6|  40|  24|      18.0|       3.0|       5.0|      19.0|      2.0|        0.0|           149.0|        0.0|             22.0|      2.0|\n",
            "|       basf|      7/65|  60| 2000| 8000|  65|    1|    8|  92|  70|       0.0|       0.0|      16.0|      20.0|    114.0|        0.0|            92.0|        2.0|             23.0|     92.0|\n",
            "|       basf|      7/68|  50| 4000|16000|  65|    1|    8| 138| 117|       1.0|       2.0|      16.0|       0.0|     22.0|        0.0|            93.0|        2.0|             23.0|     26.0|\n",
            "|        bti|      5000| 350|   64|   64|   0|    1|    4|  10|  15|      21.0|      23.0|       0.0|      51.0|     44.0|        0.0|            73.0|        7.0|             24.0|     27.0|\n",
            "|        bti|      8000| 200|  512|16000|   0|    4|   32|  35|  64|       1.0|       3.0|       0.0|       9.0|     33.0|        6.0|           102.0|        3.0|             24.0|     40.0|\n",
            "|  burroughs|     b1955| 167|  524| 2000|   8|    4|   15|  19|  23|       4.0|      22.0|       1.0|      45.0|     68.0|        6.0|           129.0|       24.0|              8.0|      6.0|\n",
            "|  burroughs|     b2900| 143|  512| 5000|   0|    7|   32|  28|  29|       9.0|       3.0|       0.0|      12.0|     78.0|       14.0|           130.0|        3.0|              8.0|      8.0|\n",
            "|  burroughs|     b2925| 143| 1000| 2000|   0|    5|   16|  31|  22|       4.0|       1.0|       0.0|      12.0|     80.0|        7.0|           131.0|        5.0|              8.0|     15.0|\n",
            "|  burroughs|     b4955| 110| 5000| 5000| 142|    8|   64| 120| 124|       9.0|      21.0|      19.0|      15.0|     54.0|        2.0|           132.0|       13.0|              8.0|     50.0|\n",
            "+-----------+----------+----+-----+-----+----+-----+-----+----+----+----------+----------+----------+----------+---------+-----------+----------------+-----------+-----------------+---------+\n",
            "only showing top 20 rows\n",
            "\n"
          ],
          "name": "stdout"
        }
      ]
    },
    {
      "cell_type": "code",
      "metadata": {
        "id": "rZy2QzC8w2SI",
        "outputId": "9896ad9a-1ef4-4e13-ebb9-bb23287a22fc",
        "colab": {
          "base_uri": "https://localhost:8080/"
        }
      },
      "source": [
        "type(df_r)"
      ],
      "execution_count": 39,
      "outputs": [
        {
          "output_type": "execute_result",
          "data": {
            "text/plain": [
              "pyspark.sql.dataframe.DataFrame"
            ]
          },
          "metadata": {
            "tags": []
          },
          "execution_count": 39
        }
      ]
    },
    {
      "cell_type": "code",
      "metadata": {
        "id": "Eg9A_ZggxxFF"
      },
      "source": [
        "names_index = []\n",
        "for name in names:\n",
        "  names_index.append(name+'_index')"
      ],
      "execution_count": 41,
      "outputs": []
    },
    {
      "cell_type": "code",
      "metadata": {
        "id": "5_-PROCiyAfi",
        "outputId": "3ee186a5-41f4-4a86-91b1-f8018ff4d043",
        "colab": {
          "base_uri": "https://localhost:8080/"
        }
      },
      "source": [
        "names_index"
      ],
      "execution_count": 43,
      "outputs": [
        {
          "output_type": "execute_result",
          "data": {
            "text/plain": [
              "['vendor name_index',\n",
              " 'Model name_index',\n",
              " 'MYCT_index',\n",
              " 'MMIN_index',\n",
              " 'MMAX_index',\n",
              " 'CACH_index',\n",
              " 'CHMIN_index',\n",
              " 'CHMAX_index',\n",
              " 'PRP_index',\n",
              " 'ERP_index']"
            ]
          },
          "metadata": {
            "tags": []
          },
          "execution_count": 43
        }
      ]
    },
    {
      "cell_type": "code",
      "metadata": {
        "colab": {
          "base_uri": "https://localhost:8080/"
        },
        "id": "hBDo3Tt3o91C",
        "outputId": "74c47073-8445-402c-d116-f8d2f90038a3"
      },
      "source": [
        "from pyspark.ml.feature import VectorAssembler\n",
        "assemble=VectorAssembler(inputCols=names_index, outputCol='features')\n",
        "assembled_data=assemble.transform(df_r)\n",
        "assembled_data.show()"
      ],
      "execution_count": 45,
      "outputs": [
        {
          "output_type": "stream",
          "text": [
            "+-----------+----------+----+-----+-----+----+-----+-----+----+----+----------+----------+----------+----------+---------+-----------+----------------+-----------+-----------------+---------+--------------------+\n",
            "|vendor name|Model name|MYCT| MMIN| MMAX|CACH|CHMIN|CHMAX| PRP| ERP|MMAX_index|MMIN_index|CACH_index|MYCT_index|PRP_index|CHMIN_index|Model name_index|CHMAX_index|vendor name_index|ERP_index|            features|\n",
            "+-----------+----------+----+-----+-----+----+-----+-----+----+----+----------+----------+----------+----------+---------+-----------+----------------+-----------+-----------------+---------+--------------------+\n",
            "|    adviser|     32/60| 125|  256| 6000| 256|   16|  128| 198| 199|       7.0|       5.0|      14.0|      23.0|     69.0|        5.0|            29.0|       19.0|             26.0|     66.0|[26.0,29.0,23.0,5...|\n",
            "|     amdahl|    470v/7|  29| 8000|32000|  32|    8|   32| 269| 253|       3.0|       4.0|       2.0|      18.0|     76.0|        2.0|            62.0|        3.0|              6.0|     16.0|[6.0,62.0,18.0,4....|\n",
            "|     amdahl|   470v/7a|  29| 8000|32000|  32|    8|   32| 220| 253|       3.0|       4.0|       2.0|      18.0|     71.0|        2.0|            63.0|        3.0|              6.0|     16.0|[6.0,63.0,18.0,4....|\n",
            "|     amdahl|   470v/7b|  29| 8000|32000|  32|    8|   32| 172| 253|       3.0|       4.0|       2.0|      18.0|     63.0|        2.0|            64.0|        3.0|              6.0|     16.0|[6.0,64.0,18.0,4....|\n",
            "|     amdahl|   470v/7c|  29| 8000|16000|  32|    8|   16| 132| 132|       1.0|       4.0|       2.0|      18.0|     21.0|        2.0|            65.0|        5.0|              6.0|     53.0|[6.0,65.0,18.0,4....|\n",
            "|     amdahl|    470v/b|  26| 8000|32000|  64|    8|   32| 318| 290|       3.0|       4.0|       3.0|       2.0|     81.0|        2.0|            66.0|        3.0|              6.0|     74.0|[6.0,66.0,2.0,4.0...|\n",
            "|     amdahl|  580-5840|  23|16000|32000|  64|   16|   32| 367| 381|       3.0|       7.0|       3.0|      16.0|     83.0|        5.0|            74.0|        3.0|              6.0|     34.0|[6.0,74.0,16.0,7....|\n",
            "|     amdahl|  580-5850|  23|16000|32000|  64|   16|   32| 489| 381|       3.0|       7.0|       3.0|      16.0|     91.0|        5.0|            75.0|        3.0|              6.0|     34.0|[6.0,75.0,16.0,7....|\n",
            "|     amdahl|  580-5860|  23|16000|64000|  64|   16|   32| 636| 749|      11.0|       7.0|       3.0|      16.0|    100.0|        5.0|            76.0|        3.0|              6.0|     95.0|[6.0,76.0,16.0,7....|\n",
            "|     amdahl|  580-5880|  23|32000|64000| 128|   32|   64|1144|1238|      11.0|      19.0|       7.0|      16.0|     51.0|       13.0|            77.0|       13.0|              6.0|     49.0|[6.0,77.0,16.0,19...|\n",
            "|     apollo|     dn320| 400| 1000| 3000|   0|    1|    2|  38|  23|       8.0|       1.0|       0.0|      19.0|     13.0|        0.0|           148.0|        6.0|             22.0|      6.0|[22.0,148.0,19.0,...|\n",
            "|     apollo|     dn420| 400|  512| 3500|   4|    1|    6|  40|  24|      18.0|       3.0|       5.0|      19.0|      2.0|        0.0|           149.0|        0.0|             22.0|      2.0|[22.0,149.0,19.0,...|\n",
            "|       basf|      7/65|  60| 2000| 8000|  65|    1|    8|  92|  70|       0.0|       0.0|      16.0|      20.0|    114.0|        0.0|            92.0|        2.0|             23.0|     92.0|[23.0,92.0,20.0,0...|\n",
            "|       basf|      7/68|  50| 4000|16000|  65|    1|    8| 138| 117|       1.0|       2.0|      16.0|       0.0|     22.0|        0.0|            93.0|        2.0|             23.0|     26.0|[23.0,93.0,0.0,2....|\n",
            "|        bti|      5000| 350|   64|   64|   0|    1|    4|  10|  15|      21.0|      23.0|       0.0|      51.0|     44.0|        0.0|            73.0|        7.0|             24.0|     27.0|[24.0,73.0,51.0,2...|\n",
            "|        bti|      8000| 200|  512|16000|   0|    4|   32|  35|  64|       1.0|       3.0|       0.0|       9.0|     33.0|        6.0|           102.0|        3.0|             24.0|     40.0|[24.0,102.0,9.0,3...|\n",
            "|  burroughs|     b1955| 167|  524| 2000|   8|    4|   15|  19|  23|       4.0|      22.0|       1.0|      45.0|     68.0|        6.0|           129.0|       24.0|              8.0|      6.0|[8.0,129.0,45.0,2...|\n",
            "|  burroughs|     b2900| 143|  512| 5000|   0|    7|   32|  28|  29|       9.0|       3.0|       0.0|      12.0|     78.0|       14.0|           130.0|        3.0|              8.0|      8.0|[8.0,130.0,12.0,3...|\n",
            "|  burroughs|     b2925| 143| 1000| 2000|   0|    5|   16|  31|  22|       4.0|       1.0|       0.0|      12.0|     80.0|        7.0|           131.0|        5.0|              8.0|     15.0|[8.0,131.0,12.0,1...|\n",
            "|  burroughs|     b4955| 110| 5000| 5000| 142|    8|   64| 120| 124|       9.0|      21.0|      19.0|      15.0|     54.0|        2.0|           132.0|       13.0|              8.0|     50.0|[8.0,132.0,15.0,2...|\n",
            "+-----------+----------+----+-----+-----+----+-----+-----+----+----+----------+----------+----------+----------+---------+-----------+----------------+-----------+-----------------+---------+--------------------+\n",
            "only showing top 20 rows\n",
            "\n"
          ],
          "name": "stdout"
        }
      ]
    },
    {
      "cell_type": "code",
      "metadata": {
        "id": "uh5_U_osqXJP",
        "outputId": "9127f55c-294e-4779-a297-b7efbeddc752",
        "colab": {
          "base_uri": "https://localhost:8080/"
        }
      },
      "source": [
        "from pyspark.ml.feature import StandardScaler\n",
        "scale=StandardScaler(inputCol='features',outputCol='standardized')\n",
        "data_scale=scale.fit(assembled_data)\n",
        "data_scale_output=data_scale.transform(assembled_data)\n",
        "data_scale_output.show(2)"
      ],
      "execution_count": 46,
      "outputs": [
        {
          "output_type": "stream",
          "text": [
            "+-----------+----------+----+----+-----+----+-----+-----+---+---+----------+----------+----------+----------+---------+-----------+----------------+-----------+-----------------+---------+--------------------+--------------------+\n",
            "|vendor name|Model name|MYCT|MMIN| MMAX|CACH|CHMIN|CHMAX|PRP|ERP|MMAX_index|MMIN_index|CACH_index|MYCT_index|PRP_index|CHMIN_index|Model name_index|CHMAX_index|vendor name_index|ERP_index|            features|        standardized|\n",
            "+-----------+----------+----+----+-----+----+-----+-----+---+---+----------+----------+----------+----------+---------+-----------+----------------+-----------+-----------------+---------+--------------------+--------------------+\n",
            "|    adviser|     32/60| 125| 256| 6000| 256|   16|  128|198|199|       7.0|       5.0|      14.0|      23.0|     69.0|        5.0|            29.0|       19.0|             26.0|     66.0|[26.0,29.0,23.0,5...|[3.58043973945428...|\n",
            "|     amdahl|    470v/7|  29|8000|32000|  32|    8|   32|269|253|       3.0|       4.0|       2.0|      18.0|     76.0|        2.0|            62.0|        3.0|              6.0|     16.0|[6.0,62.0,18.0,4....|[0.82625532448945...|\n",
            "+-----------+----------+----+----+-----+----+-----+-----+---+---+----------+----------+----------+----------+---------+-----------+----------------+-----------+-----------------+---------+--------------------+--------------------+\n",
            "only showing top 2 rows\n",
            "\n"
          ],
          "name": "stdout"
        }
      ]
    },
    {
      "cell_type": "code",
      "metadata": {
        "id": "tojylCwC0rBZ",
        "outputId": "46227544-fbba-4363-cb72-43811b322c58",
        "colab": {
          "base_uri": "https://localhost:8080/"
        }
      },
      "source": [
        "from pyspark.ml.clustering import KMeans\n",
        "from pyspark.ml.evaluation import ClusteringEvaluator\n",
        "silhouette_score=[]\n",
        "evaluator = ClusteringEvaluator(predictionCol='prediction', featuresCol='standardized', \\\n",
        "                                metricName='silhouette', distanceMeasure='squaredEuclidean')\n",
        "for i in range(2,10):\n",
        "    \n",
        "    KMeans_algo=KMeans(featuresCol='standardized', k=i)\n",
        "    \n",
        "    KMeans_fit=KMeans_algo.fit(data_scale_output)\n",
        "    \n",
        "    output=KMeans_fit.transform(data_scale_output)\n",
        "    \n",
        "    \n",
        "    \n",
        "    score=evaluator.evaluate(output)\n",
        "    \n",
        "    silhouette_score.append(score)\n",
        "    \n",
        "    print(\"Silhouette Score:\",score)"
      ],
      "execution_count": 47,
      "outputs": [
        {
          "output_type": "stream",
          "text": [
            "Silhouette Score: 0.29616971068845677\n",
            "Silhouette Score: 0.2709272139151995\n",
            "Silhouette Score: 0.22507478494676675\n",
            "Silhouette Score: 0.2166552132362425\n",
            "Silhouette Score: 0.20818952608037886\n",
            "Silhouette Score: 0.18739476654334564\n",
            "Silhouette Score: 0.19649345343138194\n",
            "Silhouette Score: 0.22569118188284598\n"
          ],
          "name": "stdout"
        }
      ]
    }
  ]
}